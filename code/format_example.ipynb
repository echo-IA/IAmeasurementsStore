{
 "cells": [
  {
   "cell_type": "code",
   "execution_count": 3,
   "id": "9ca5e745",
   "metadata": {},
   "outputs": [],
   "source": [
    "import numpy as np\n",
    "import os\n",
    "import fitsio as fi\n",
    "from matplotlib import rcParams\n",
    "import matplotlib.pyplot as plt\n",
    "plt.style.use('y1a1')\n",
    "from scipy.interpolate import interp1d, interp2d\n",
    "import sys\n",
    "\n",
    "\n",
    "rcParams['xtick.major.size'] = 3.5\n",
    "rcParams['xtick.minor.size'] = 1.7\n",
    "rcParams['ytick.major.size'] = 3.5\n",
    "rcParams['ytick.minor.size'] = 1.7\n",
    "\n",
    "np.random.seed(98765)\n",
    "\n",
    "base = '%s/../'%os.getcwd()\n"
   ]
  },
  {
   "cell_type": "code",
   "execution_count": 44,
   "id": "1c193cdf",
   "metadata": {},
   "outputs": [],
   "source": [
    "# to begin, let's just read in the file\n",
    "sample='eboss_lrg'\n",
    "f = fi.FITS(base+'/eboss_lrg/2pt_%s_fidcovV3.fits'%(sample))"
   ]
  },
  {
   "cell_type": "code",
   "execution_count": 45,
   "id": "a27df7ee",
   "metadata": {},
   "outputs": [
    {
     "name": "stdout",
     "output_type": "stream",
     "text": [
      "\n",
      "  file: /Users/hattifattener/work/IAmeasurementsStore/code/..//eboss_lrg/2pt_eboss_lrg_fidcovV3.fits\n",
      "  mode: READONLY\n",
      "  extnum hdutype         hduname[v]\n",
      "  0      IMAGE_HDU       \n",
      "  1      BINARY_TBL      nz_eboss_lrg_shape\n",
      "  2      BINARY_TBL      nz_eboss_lrg_density\n",
      "  3      BINARY_TBL      wgp\n",
      "  4      BINARY_TBL      wpp\n",
      "  5      BINARY_TBL      wgg\n",
      "  6      IMAGE_HDU       COVMAT\n"
     ]
    }
   ],
   "source": [
    "# just print the hdu names\n",
    "print(f)"
   ]
  },
  {
   "cell_type": "code",
   "execution_count": 46,
   "id": "8f23501b",
   "metadata": {},
   "outputs": [
    {
     "name": "stdout",
     "output_type": "stream",
     "text": [
      "('Z_MID', 'Z_LOW', 'Z_HIGH', 'BIN1')\n"
     ]
    }
   ],
   "source": [
    "### redshift distributions\n",
    "\n",
    "# when we read in a HDU, it becomes a structured array\n",
    "info_nz_s = f['nz_%s_shape'%sample].read()\n",
    "info_nz_d = f['nz_%s_density'%sample].read()\n",
    "\n",
    "# print out the column names -- basically it's just the z sampling + the value of the n(z)\n",
    "print(info_nz_s.dtype.names)"
   ]
  },
  {
   "cell_type": "code",
   "execution_count": 47,
   "id": "4e694be3",
   "metadata": {},
   "outputs": [
    {
     "data": {
      "text/plain": [
       "<matplotlib.legend.Legend at 0x130ffd820>"
      ]
     },
     "execution_count": 47,
     "metadata": {},
     "output_type": "execute_result"
    },
    {
     "data": {
      "image/png": "[encoded data removed]",
      "text/plain": [
       "<Figure size 432x288 with 1 Axes>"
      ]
     },
     "metadata": {
      "needs_background": "light"
     },
     "output_type": "display_data"
    }
   ],
   "source": [
    "# here's what they look like\n",
    "plt.plot(info_nz_s['Z_MID'],info_nz_s['BIN1'], color='darkmagenta', label='shape sample')\n",
    "plt.fill_between(info_nz_d['Z_MID'],info_nz_d['BIN1'], color='pink', alpha=0.3, label='density sample')\n",
    "\n",
    "plt.xlabel('$z$', fontsize=16)\n",
    "plt.ylabel('$n(z)$', fontsize=16)\n",
    "plt.xlim(0,1.1)\n",
    "plt.ylim(ymin=0)\n",
    "plt.legend()"
   ]
  },
  {
   "cell_type": "code",
   "execution_count": 48,
   "id": "e2239783",
   "metadata": {},
   "outputs": [
    {
     "name": "stdout",
     "output_type": "stream",
     "text": [
      "(60, 60)\n"
     ]
    },
    {
     "data": {
      "text/plain": [
       "Text(0.5, 0, 'element')"
      ]
     },
     "execution_count": 48,
     "metadata": {},
     "output_type": "execute_result"
    },
    {
     "data": {
      "image/png": "[encoded data removed]",
      "text/plain": [
       "<Figure size 432x288 with 1 Axes>"
      ]
     },
     "metadata": {
      "needs_background": "light"
     },
     "output_type": "display_data"
    }
   ],
   "source": [
    "#### covariance matrix\n",
    "# this is fairly simple - it's a Ntheta*3 x Ntheta*3 square array\n",
    "# the examples I've given here have analytic covariances\n",
    "\n",
    "C = f['covmat'].read()\n",
    "print(C.shape)\n",
    "\n",
    "## the ordering is wgp, wpp, wgg\n",
    "D = np.sqrt(np.diag(C))\n",
    "dwgp = D[:20]\n",
    "dwpp = D[20:40]\n",
    "dwgg = D[40:]\n",
    "\n",
    "plt.plot(dwgp, color='k',label='$g+$')\n",
    "plt.plot(dwpp, color='darkmagenta', label='$++$')\n",
    "plt.plot(dwgg, color='pink', label='$gg$')\n",
    "\n",
    "plt.legend()\n",
    "\n",
    "plt.yscale('log')\n",
    "plt.ylabel('$\\sigma$')\n",
    "plt.xlabel('element')"
   ]
  },
  {
   "cell_type": "code",
   "execution_count": 49,
   "id": "5b92a4da",
   "metadata": {},
   "outputs": [
    {
     "name": "stdout",
     "output_type": "stream",
     "text": [
      "\n",
      "XTENSION= 'IMAGE'              / IMAGE extension\n",
      "BITPIX  =                  -64 / number of bits per data pixel\n",
      "NAXIS   =                    2 / number of data axes\n",
      "NAXIS1  =                   60 / length of data axis 1\n",
      "NAXIS2  =                   60 / length of data axis 2\n",
      "PCOUNT  =                    0 / required keyword; must = 0\n",
      "GCOUNT  =                    1 / required keyword; must = 1\n",
      "EXTNAME = 'COVMAT'             / \n",
      "STRT_0  =                    0 / \n",
      "STRT_1  =                   20 / \n",
      "STRT_2  =                   40 / \n",
      "NAME_0  = 'wgp'                / \n",
      "NAME_1  = 'wpp'                / \n",
      "NAME_2  = 'wgg'                / \n",
      "NREAL   =                  100 / \n"
     ]
    }
   ],
   "source": [
    "print(f['covmat'].read_header())"
   ]
  },
  {
   "cell_type": "code",
   "execution_count": 50,
   "id": "f4c89251",
   "metadata": {},
   "outputs": [
    {
     "name": "stdout",
     "output_type": "stream",
     "text": [
      "('SEP', 'SEPBIN', 'SAMPLE1', 'SAMPLE2', 'BIN1', 'BIN2', 'VALUE')\n"
     ]
    }
   ],
   "source": [
    "### correlation functions\n",
    "\n",
    "info_wpp = f['wpp'].read() # shape-shape\n",
    "info_wgp = f['wgp'].read() # galaxy-shape\n",
    "info_wgg = f['wgg'].read() # galaxy-galaxy\n",
    "\n",
    "# should be the same for all three 2pt correlations\n",
    "# units are Mpc/h\n",
    "rp = info_wgp['SEP'] \n",
    "\n",
    "# column names again\n",
    "print(info_wgp.dtype.names)\n"
   ]
  },
  {
   "cell_type": "code",
   "execution_count": null,
   "id": "a49844d3",
   "metadata": {},
   "outputs": [],
   "source": [
    "# there's not that much in the header for the correlation functions\n",
    "# but could potentially include \n",
    "print(f['wgp'].read_header())"
   ]
  },
  {
   "cell_type": "code",
   "execution_count": null,
   "id": "0676ba15",
   "metadata": {},
   "outputs": [],
   "source": []
  },
  {
   "cell_type": "code",
   "execution_count": 57,
   "id": "a462139f",
   "metadata": {},
   "outputs": [
    {
     "name": "stderr",
     "output_type": "stream",
     "text": [
      "No handles with labels found to put in legend.\n"
     ]
    },
    {
     "data": {
      "text/plain": [
       "(-2.5, 7.0)"
      ]
     },
     "execution_count": 57,
     "metadata": {},
     "output_type": "execute_result"
    },
    {
     "data": {
      "image/png": "[encoded data removed]",
      "text/plain": [
       "<Figure size 432x288 with 1 Axes>"
      ]
     },
     "metadata": {
      "needs_background": "light"
     },
     "output_type": "display_data"
    }
   ],
   "source": [
    "# plot, for example, wgp\n",
    "plt.errorbar(rp,rp*info_wgp['VALUE'], yerr=rp*dwgp, linestyle='none', color='darkmagenta', marker='o')\n",
    "\n",
    "plt.xlabel(r'$r_{\\rm p}$ [Mpc/$h$]', fontsize=16)\n",
    "plt.ylabel(r'$r_{\\rm p} \\times w_{g+}$', fontsize=16)\n",
    "plt.xlim(0.1,150)\n",
    "plt.xscale('log')\n",
    "plt.axhline(0,color='k',ls=':')\n",
    "plt.legend()\n",
    "plt.ylim(-2.5,7)"
   ]
  },
  {
   "cell_type": "code",
   "execution_count": 55,
   "id": "628fee79",
   "metadata": {},
   "outputs": [
    {
     "name": "stderr",
     "output_type": "stream",
     "text": [
      "No handles with labels found to put in legend.\n"
     ]
    },
    {
     "data": {
      "text/plain": [
       "<matplotlib.legend.Legend at 0x131428df0>"
      ]
     },
     "execution_count": 55,
     "metadata": {},
     "output_type": "execute_result"
    },
    {
     "data": {
      "image/png": "[encoded data removed]",
      "text/plain": [
       "<Figure size 432x288 with 1 Axes>"
      ]
     },
     "metadata": {
      "needs_background": "light"
     },
     "output_type": "display_data"
    }
   ],
   "source": [
    "# wgg\n",
    "plt.errorbar(rp,rp*info_wgg['VALUE'], yerr=rp*dwgg, linestyle='none', color='darkmagenta', marker='o')\n",
    "\n",
    "plt.xlabel(r'$r_{\\rm p}$ [Mpc/$h$]', fontsize=16)\n",
    "plt.ylabel(r'$r_{\\rm p} \\times w_{gg}$', fontsize=16)\n",
    "plt.xlim(0.1,150)\n",
    "plt.xscale('log')\n",
    "plt.axhline(0,color='k',ls=':')\n",
    "plt.legend()\n"
   ]
  },
  {
   "cell_type": "code",
   "execution_count": 56,
   "id": "a49a87b6",
   "metadata": {},
   "outputs": [
    {
     "name": "stderr",
     "output_type": "stream",
     "text": [
      "No handles with labels found to put in legend.\n"
     ]
    },
    {
     "data": {
      "text/plain": [
       "<matplotlib.legend.Legend at 0x131117fa0>"
      ]
     },
     "execution_count": 56,
     "metadata": {},
     "output_type": "execute_result"
    },
    {
     "data": {
      "image/png": "[encoded data removed]",
      "text/plain": [
       "<Figure size 432x288 with 1 Axes>"
      ]
     },
     "metadata": {
      "needs_background": "light"
     },
     "output_type": "display_data"
    }
   ],
   "source": [
    "# w++\n",
    "plt.errorbar(rp,rp*info_wpp['VALUE'], yerr=rp*dwpp, linestyle='none', color='darkmagenta', marker='o')\n",
    "\n",
    "plt.xlabel(r'$r_{\\rm p}$ [Mpc/$h$]', fontsize=16)\n",
    "plt.ylabel(r'$r_{\\rm p} \\times w_{++}$', fontsize=16)\n",
    "plt.xlim(0.1,150)\n",
    "plt.xscale('log')\n",
    "plt.axhline(0,color='k',ls=':')\n",
    "plt.legend()"
   ]
  },
  {
   "cell_type": "code",
   "execution_count": 59,
   "id": "b6c3b40e",
   "metadata": {},
   "outputs": [
    {
     "name": "stdout",
     "output_type": "stream",
     "text": [
      "\n",
      "XTENSION= 'BINTABLE'           / binary table extension\n",
      "BITPIX  =                    8 / 8-bit bytes\n",
      "NAXIS   =                    2 / 2-dimensional binary table\n",
      "NAXIS1  =                   56 / width of table in bytes\n",
      "NAXIS2  =                   20 / number of rows in table\n",
      "PCOUNT  =                    0 / size of special data area\n",
      "GCOUNT  =                    1 / one data group (required keyword)\n",
      "TFIELDS =                    7 / number of fields in each row\n",
      "TTYPE1  = 'SEP'                / label for field   1\n",
      "TFORM1  = 'D'                  / data format of field: 8-byte DOUBLE\n",
      "TTYPE2  = 'SEPBIN'             / label for field   2\n",
      "TFORM2  = 'K'                  / data format of field: 8-byte INTEGER\n",
      "TTYPE3  = 'SAMPLE1'            / label for field   3\n",
      "TFORM3  = 'K'                  / data format of field: 8-byte INTEGER\n",
      "TTYPE4  = 'SAMPLE2'            / label for field   4\n",
      "TFORM4  = 'K'                  / data format of field: 8-byte INTEGER\n",
      "TTYPE5  = 'BIN1'               / label for field   5\n",
      "TFORM5  = 'K'                  / data format of field: 8-byte INTEGER\n",
      "TTYPE6  = 'BIN2'               / label for field   6\n",
      "TFORM6  = 'K'                  / data format of field: 8-byte INTEGER\n",
      "TTYPE7  = 'VALUE'              / label for field   7\n",
      "TFORM7  = 'D'                  / data format of field: 8-byte DOUBLE\n",
      "EXTNAME = 'wgp'                / \n",
      "SAMPLE_0= 'eboss_lrg_shape'    / \n",
      "SAMPLE_2= 'eboss_lrg_density'  / \n"
     ]
    }
   ],
   "source": []
  },
  {
   "cell_type": "code",
   "execution_count": null,
   "id": "c749c756",
   "metadata": {},
   "outputs": [],
   "source": []
  }
 ],
 "metadata": {
  "kernelspec": {
   "display_name": "Python 3 (ipykernel)",
   "language": "python",
   "name": "python3"
  },
  "language_info": {
   "codemirror_mode": {
    "name": "ipython",
    "version": 3
   },
   "file_extension": ".py",
   "mimetype": "text/x-python",
   "name": "python",
   "nbconvert_exporter": "python",
   "pygments_lexer": "ipython3",
   "version": "3.9.7"
  }
 },
 "nbformat": 4,
 "nbformat_minor": 5
}

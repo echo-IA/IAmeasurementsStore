{
 "cells": [
  {
   "cell_type": "code",
   "execution_count": 1,
   "id": "3788a0bc",
   "metadata": {},
   "outputs": [],
   "source": [
    "import numpy as np\n",
    "import os, sys\n",
    "import fitsio as fi\n",
    "\n",
    "base = '%s/../'%os.getcwd()\n",
    "\n",
    "def gaussian(x,mu,a,s):\n",
    "    return a*np.exp(-(x-mu)*(x-mu)/2/s/s)"
   ]
  },
  {
   "cell_type": "code",
   "execution_count": 2,
   "id": "d24527d8",
   "metadata": {},
   "outputs": [],
   "source": [
    "# replace this with the name of your sample\n",
    "sample_name = \"test_sample\""
   ]
  },
  {
   "cell_type": "code",
   "execution_count": 3,
   "id": "447b08da",
   "metadata": {},
   "outputs": [],
   "source": [
    "# we'll set up some dummy data now\n",
    "# replace these arrays with your own data\n",
    "\n",
    "# correlations. These are just 1D numpy arrays\n",
    "# r_p is in units of Mpc/h\n",
    "r_p = np.logspace(-1,np.log10(200),20)\n",
    "nbins=len(r_p)\n",
    "wgp = np.ones(nbins)\n",
    "wgg = np.ones(nbins)\n",
    "wpp = np.ones(nbins)\n",
    "\n",
    "# one big covariance matrix for the 3 correlations\n",
    "# again this expects a 2D numpy array\n",
    "Cov = np.diag(np.ones(nbins*3))\n",
    "\n",
    "# redshift distributions of the two samples, as 1D np arrays\n",
    "# the z array defines the redshift axis\n",
    "z = np.linspace(0.05,3.,200)\n",
    "Nofz_d = gaussian(z,0.5,1.,0.08)\n",
    "Nofz_s = gaussian(z,0.5,1.,0.1)"
   ]
  },
  {
   "cell_type": "code",
   "execution_count": 4,
   "id": "bb4ad9ef",
   "metadata": {},
   "outputs": [],
   "source": [
    "# work out the edges of the redshift histogram bins\n",
    "dz = z[1]-z[0]\n",
    "z_low = z-dz/2\n",
    "z_high = z+dz/2"
   ]
  },
  {
   "cell_type": "code",
   "execution_count": 5,
   "id": "a927b430",
   "metadata": {},
   "outputs": [],
   "source": [
    "# we'll now set up the output file to write to\n",
    "filename = '2pt_%s.fits'%sample_name\n",
    "\n",
    "# remove any file with the same name, if it exists already\n",
    "os.system('rm %s'%filename)\n",
    "f = fi.FITS(filename,'rw')"
   ]
  },
  {
   "cell_type": "code",
   "execution_count": 6,
   "id": "26b03609",
   "metadata": {},
   "outputs": [],
   "source": [
    "# store the n(z)s in the FITS file\n",
    "\n",
    "# shape sample\n",
    "out_dict = {}\n",
    "out_dict['Z_MID'] = z\n",
    "out_dict['Z_LOW'] = z_low\n",
    "out_dict['Z_HIGH'] = z_high\n",
    "out_dict['BIN1'] = Nofz_s\n",
    "\n",
    "f.write(out_dict)\n",
    "f[-1].write_key('EXTNAME','nz_%s_shape'%sample_name)\n",
    "\n",
    "# density sample\n",
    "out_dict = {}\n",
    "out_dict['Z_MID'] = z\n",
    "out_dict['Z_LOW'] = z_low\n",
    "out_dict['Z_HIGH'] = z_high\n",
    "out_dict['BIN1'] = Nofz_d\n",
    "\n",
    "f.write(out_dict)\n",
    "f[-1].write_key('EXTNAME','nz_%s_density'%sample_name)\n"
   ]
  },
  {
   "cell_type": "code",
   "execution_count": 7,
   "id": "62b26438",
   "metadata": {},
   "outputs": [],
   "source": [
    "# this bit is just indexing to distinguish cross-correlations between samples/z bins\n",
    "# if we only have one redshift/colour/luminosity selection per FITS file \n",
    "# they're not really used for much anymore\n",
    "\n",
    "sample_index_s = np.ones(nbins)\n",
    "sample_index_d = np.zeros(nbins)\n",
    "bin_index = np.ones(nbins)\n",
    "sep_bin_index = np.linspace(0,nbins-1,nbins).astype(int)"
   ]
  },
  {
   "cell_type": "code",
   "execution_count": 8,
   "id": "95abb7e3",
   "metadata": {},
   "outputs": [],
   "source": [
    "# store the data arrays for w_g+\n",
    "out_dict = {}\n",
    "out_dict['SEP'] = r_p\n",
    "out_dict['SEPBIN'] = sep_bin_index\n",
    "out_dict['VALUE'] = wgp\n",
    "out_dict['BIN1'] = bin_index\n",
    "out_dict['BIN2'] = bin_index\n",
    "out_dict['SAMPLE1'] = sample_index_s\n",
    "out_dict['SAMPLE2'] = sample_index_d\n",
    "\n",
    "f.write(out_dict)\n",
    "\n",
    "# also include some metadata\n",
    "# in principle we could add more details by adding extra lines below\n",
    "f[-1].write_key('EXTNAME','wgp')\n",
    "f[-1].write_key('SAMPLE_0','%s_density'%sample_name)\n",
    "f[-1].write_key('SAMPLE_1','%s_shape'%sample_name)\n",
    "f[-1].write_key('SEP_UNITS','Mpc_h')\n"
   ]
  },
  {
   "cell_type": "code",
   "execution_count": 9,
   "id": "572df924",
   "metadata": {},
   "outputs": [],
   "source": [
    "# same thing for w_++\n",
    "out_dict = {}\n",
    "out_dict['SEP'] = r_p\n",
    "out_dict['SEPBIN'] = sep_bin_index\n",
    "out_dict['VALUE'] = wpp\n",
    "out_dict['BIN1'] = bin_index\n",
    "out_dict['BIN2'] = bin_index\n",
    "out_dict['SAMPLE1'] = sample_index_s\n",
    "out_dict['SAMPLE2'] = sample_index_s\n",
    "\n",
    "f.write(out_dict)\n",
    "f[-1].write_key('EXTNAME','wpp')\n",
    "f[-1].write_key('SAMPLE_1','%s_shape'%sample_name)\n",
    "f[-1].write_key('SEP_UNITS','Mpc_h')"
   ]
  },
  {
   "cell_type": "code",
   "execution_count": 10,
   "id": "f58eb529",
   "metadata": {},
   "outputs": [],
   "source": [
    "# and for w_gg\n",
    "out_dict = {}\n",
    "out_dict['SEP'] = r_p\n",
    "out_dict['SEPBIN'] = sep_bin_index\n",
    "out_dict['VALUE'] = wgg\n",
    "out_dict['BIN1'] = bin_index\n",
    "out_dict['BIN2'] = bin_index\n",
    "out_dict['SAMPLE1'] = sample_index_d\n",
    "out_dict['SAMPLE2'] = sample_index_d\n",
    "\n",
    "f.write(out_dict)\n",
    "f[-1].write_key('EXTNAME','wgg')\n",
    "f[-1].write_key('SAMPLE_0','%s_density'%sample_name)\n",
    "f[-1].write_key('SEP_UNITS','Mpc_h')"
   ]
  },
  {
   "cell_type": "code",
   "execution_count": 12,
   "id": "a49e1c24",
   "metadata": {},
   "outputs": [],
   "source": [
    "# finally write the covariance matrix\n",
    "f.write(Cov)\n",
    "f[-1].write_key('EXTNAME','COVMAT')\n",
    "\n",
    "f[-1].write_key('STRT_0',0)\n",
    "f[-1].write_key('STRT_1',nbins) \n",
    "f[-1].write_key('STRT_2',nbins*2) \n",
    "f[-1].write_key('NAME_0', 'wgp')\n",
    "f[-1].write_key('NAME_1', 'wpp') \n",
    "f[-1].write_key('NAME_2', 'wgg')"
   ]
  },
  {
   "cell_type": "code",
   "execution_count": 13,
   "id": "47f8f762",
   "metadata": {},
   "outputs": [],
   "source": [
    "f.close()"
   ]
  },
  {
   "cell_type": "code",
   "execution_count": null,
   "id": "a8d2b1eb",
   "metadata": {},
   "outputs": [],
   "source": []
  }
 ],
 "metadata": {
  "kernelspec": {
   "display_name": "Python 3 (ipykernel)",
   "language": "python",
   "name": "python3"
  },
  "language_info": {
   "codemirror_mode": {
    "name": "ipython",
    "version": 3
   },
   "file_extension": ".py",
   "mimetype": "text/x-python",
   "name": "python",
   "nbconvert_exporter": "python",
   "pygments_lexer": "ipython3",
   "version": "3.9.7"
  }
 },
 "nbformat": 4,
 "nbformat_minor": 5
}
